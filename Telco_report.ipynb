{
 "cells": [
  {
   "cell_type": "markdown",
   "id": "9acc0368",
   "metadata": {},
   "source": [
    "# Telco Churn\n",
    "\n"
   ]
  },
  {
   "cell_type": "markdown",
   "id": "f0f4906b",
   "metadata": {},
   "source": [
    "By Lindy Castellaw 7/14/2022"
   ]
  },
  {
   "cell_type": "markdown",
   "id": "80f41fa1",
   "metadata": {},
   "source": [
    "# Goal"
   ]
  },
  {
   "cell_type": "markdown",
   "id": "404b2d14",
   "metadata": {},
   "source": [
    "This project is about identifing the main drivers for churn and what recomendations can be made to reduce it."
   ]
  },
  {
   "cell_type": "markdown",
   "id": "df83fa53",
   "metadata": {},
   "source": [
    "## Description"
   ]
  },
  {
   "cell_type": "markdown",
   "id": "0179de7f",
   "metadata": {},
   "source": [
    "Predicting customer churn is critical for telecommunication companies to be able to retain customers. \n",
    "Especially because it is more costly to acquire new customers than to keep existing ones.\n",
    "My goal is to identify main drivers of churn as well as which customers are at risk,\n",
    "and to make any recommendations for changes so that we can reduce the churn rate and increase customer retention.\n",
    "I have explored and the data by using visualizations and built models to predict how likely a customer will churn by analyzing certain features: demographic (gender, dependents), account (monthly charges, contract), and services information (internet services)."
   ]
  },
  {
   "cell_type": "markdown",
   "id": "55ac90c1",
   "metadata": {},
   "source": [
    "## Questions"
   ]
  },
  {
   "cell_type": "markdown",
   "id": "9552c206",
   "metadata": {},
   "source": [
    "-My first question is if monthly cost has anything to do with churn? \n",
    "\n",
    "-What services churn more?\n",
    "\n",
    "-What kind of contracts churn most?"
   ]
  },
  {
   "cell_type": "markdown",
   "id": "41557321",
   "metadata": {},
   "source": [
    "## Wrangle data"
   ]
  },
  {
   "cell_type": "markdown",
   "id": "3095e9bf",
   "metadata": {},
   "source": [
    "First thing to do is to acquire the Telco data from the aquire.py file."
   ]
  },
  {
   "cell_type": "code",
   "execution_count": 1,
   "id": "90315252",
   "metadata": {},
   "outputs": [
    {
     "data": {
      "text/html": [
       "<div>\n",
       "<style scoped>\n",
       "    .dataframe tbody tr th:only-of-type {\n",
       "        vertical-align: middle;\n",
       "    }\n",
       "\n",
       "    .dataframe tbody tr th {\n",
       "        vertical-align: top;\n",
       "    }\n",
       "\n",
       "    .dataframe thead th {\n",
       "        text-align: right;\n",
       "    }\n",
       "</style>\n",
       "<table border=\"1\" class=\"dataframe\">\n",
       "  <thead>\n",
       "    <tr style=\"text-align: right;\">\n",
       "      <th></th>\n",
       "      <th>payment_type_id</th>\n",
       "      <th>internet_service_type_id</th>\n",
       "      <th>contract_type_id</th>\n",
       "      <th>customer_id</th>\n",
       "      <th>gender</th>\n",
       "      <th>senior_citizen</th>\n",
       "      <th>partner</th>\n",
       "      <th>dependents</th>\n",
       "      <th>tenure</th>\n",
       "      <th>phone_service</th>\n",
       "      <th>...</th>\n",
       "      <th>tech_support</th>\n",
       "      <th>streaming_tv</th>\n",
       "      <th>streaming_movies</th>\n",
       "      <th>paperless_billing</th>\n",
       "      <th>monthly_charges</th>\n",
       "      <th>total_charges</th>\n",
       "      <th>churn</th>\n",
       "      <th>contract_type</th>\n",
       "      <th>internet_service_type</th>\n",
       "      <th>payment_type</th>\n",
       "    </tr>\n",
       "  </thead>\n",
       "  <tbody>\n",
       "    <tr>\n",
       "      <th>0</th>\n",
       "      <td>2</td>\n",
       "      <td>1</td>\n",
       "      <td>2</td>\n",
       "      <td>0002-ORFBO</td>\n",
       "      <td>Female</td>\n",
       "      <td>0</td>\n",
       "      <td>Yes</td>\n",
       "      <td>Yes</td>\n",
       "      <td>9</td>\n",
       "      <td>Yes</td>\n",
       "      <td>...</td>\n",
       "      <td>Yes</td>\n",
       "      <td>Yes</td>\n",
       "      <td>No</td>\n",
       "      <td>Yes</td>\n",
       "      <td>65.6</td>\n",
       "      <td>593.3</td>\n",
       "      <td>No</td>\n",
       "      <td>One year</td>\n",
       "      <td>DSL</td>\n",
       "      <td>Mailed check</td>\n",
       "    </tr>\n",
       "    <tr>\n",
       "      <th>1</th>\n",
       "      <td>2</td>\n",
       "      <td>1</td>\n",
       "      <td>1</td>\n",
       "      <td>0003-MKNFE</td>\n",
       "      <td>Male</td>\n",
       "      <td>0</td>\n",
       "      <td>No</td>\n",
       "      <td>No</td>\n",
       "      <td>9</td>\n",
       "      <td>Yes</td>\n",
       "      <td>...</td>\n",
       "      <td>No</td>\n",
       "      <td>No</td>\n",
       "      <td>Yes</td>\n",
       "      <td>No</td>\n",
       "      <td>59.9</td>\n",
       "      <td>542.4</td>\n",
       "      <td>No</td>\n",
       "      <td>Month-to-month</td>\n",
       "      <td>DSL</td>\n",
       "      <td>Mailed check</td>\n",
       "    </tr>\n",
       "    <tr>\n",
       "      <th>2</th>\n",
       "      <td>1</td>\n",
       "      <td>2</td>\n",
       "      <td>1</td>\n",
       "      <td>0004-TLHLJ</td>\n",
       "      <td>Male</td>\n",
       "      <td>0</td>\n",
       "      <td>No</td>\n",
       "      <td>No</td>\n",
       "      <td>4</td>\n",
       "      <td>Yes</td>\n",
       "      <td>...</td>\n",
       "      <td>No</td>\n",
       "      <td>No</td>\n",
       "      <td>No</td>\n",
       "      <td>Yes</td>\n",
       "      <td>73.9</td>\n",
       "      <td>280.85</td>\n",
       "      <td>Yes</td>\n",
       "      <td>Month-to-month</td>\n",
       "      <td>Fiber optic</td>\n",
       "      <td>Electronic check</td>\n",
       "    </tr>\n",
       "    <tr>\n",
       "      <th>3</th>\n",
       "      <td>1</td>\n",
       "      <td>2</td>\n",
       "      <td>1</td>\n",
       "      <td>0011-IGKFF</td>\n",
       "      <td>Male</td>\n",
       "      <td>1</td>\n",
       "      <td>Yes</td>\n",
       "      <td>No</td>\n",
       "      <td>13</td>\n",
       "      <td>Yes</td>\n",
       "      <td>...</td>\n",
       "      <td>No</td>\n",
       "      <td>Yes</td>\n",
       "      <td>Yes</td>\n",
       "      <td>Yes</td>\n",
       "      <td>98.0</td>\n",
       "      <td>1237.85</td>\n",
       "      <td>Yes</td>\n",
       "      <td>Month-to-month</td>\n",
       "      <td>Fiber optic</td>\n",
       "      <td>Electronic check</td>\n",
       "    </tr>\n",
       "    <tr>\n",
       "      <th>4</th>\n",
       "      <td>2</td>\n",
       "      <td>2</td>\n",
       "      <td>1</td>\n",
       "      <td>0013-EXCHZ</td>\n",
       "      <td>Female</td>\n",
       "      <td>1</td>\n",
       "      <td>Yes</td>\n",
       "      <td>No</td>\n",
       "      <td>3</td>\n",
       "      <td>Yes</td>\n",
       "      <td>...</td>\n",
       "      <td>Yes</td>\n",
       "      <td>Yes</td>\n",
       "      <td>No</td>\n",
       "      <td>Yes</td>\n",
       "      <td>83.9</td>\n",
       "      <td>267.4</td>\n",
       "      <td>Yes</td>\n",
       "      <td>Month-to-month</td>\n",
       "      <td>Fiber optic</td>\n",
       "      <td>Mailed check</td>\n",
       "    </tr>\n",
       "  </tbody>\n",
       "</table>\n",
       "<p>5 rows × 24 columns</p>\n",
       "</div>"
      ],
      "text/plain": [
       "   payment_type_id  internet_service_type_id  contract_type_id customer_id  \\\n",
       "0                2                         1                 2  0002-ORFBO   \n",
       "1                2                         1                 1  0003-MKNFE   \n",
       "2                1                         2                 1  0004-TLHLJ   \n",
       "3                1                         2                 1  0011-IGKFF   \n",
       "4                2                         2                 1  0013-EXCHZ   \n",
       "\n",
       "   gender  senior_citizen partner dependents  tenure phone_service  ...  \\\n",
       "0  Female               0     Yes        Yes       9           Yes  ...   \n",
       "1    Male               0      No         No       9           Yes  ...   \n",
       "2    Male               0      No         No       4           Yes  ...   \n",
       "3    Male               1     Yes         No      13           Yes  ...   \n",
       "4  Female               1     Yes         No       3           Yes  ...   \n",
       "\n",
       "  tech_support streaming_tv streaming_movies paperless_billing  \\\n",
       "0          Yes          Yes               No               Yes   \n",
       "1           No           No              Yes                No   \n",
       "2           No           No               No               Yes   \n",
       "3           No          Yes              Yes               Yes   \n",
       "4          Yes          Yes               No               Yes   \n",
       "\n",
       "  monthly_charges total_charges churn   contract_type  internet_service_type  \\\n",
       "0            65.6         593.3    No        One year                    DSL   \n",
       "1            59.9         542.4    No  Month-to-month                    DSL   \n",
       "2            73.9        280.85   Yes  Month-to-month            Fiber optic   \n",
       "3            98.0       1237.85   Yes  Month-to-month            Fiber optic   \n",
       "4            83.9         267.4   Yes  Month-to-month            Fiber optic   \n",
       "\n",
       "       payment_type  \n",
       "0      Mailed check  \n",
       "1      Mailed check  \n",
       "2  Electronic check  \n",
       "3  Electronic check  \n",
       "4      Mailed check  \n",
       "\n",
       "[5 rows x 24 columns]"
      ]
     },
     "execution_count": 1,
     "metadata": {},
     "output_type": "execute_result"
    }
   ],
   "source": [
    "# import and aquire data\n",
    "import acquire \n",
    "\n",
    "df = acquire.get_telco_data()\n",
    "df.head()"
   ]
  },
  {
   "cell_type": "markdown",
   "id": "f5f6c9c5",
   "metadata": {},
   "source": [
    "## Prep telco\n",
    "\n",
    "-Made dummy variables for non-binary categorical variables. \n",
    "\n",
    "-Encoded categorical variables to numeric.\n",
    "\n",
    "-Dropped duplicate and null values.\n",
    "\n",
    "-Converted total charges datatype into float.\n",
    "\n",
    "-Split the data into train, validate and test."
   ]
  },
  {
   "cell_type": "code",
   "execution_count": 2,
   "id": "5ce73aba",
   "metadata": {},
   "outputs": [],
   "source": [
    "# more imports and split\n",
    "\n",
    "import pandas as pd\n",
    "import prepare_telco\n",
    "\n",
    "train,validate,test = prepare_telco.prep_telco_data(df)"
   ]
  },
  {
   "cell_type": "code",
   "execution_count": 72,
   "id": "05daf33c",
   "metadata": {},
   "outputs": [
    {
     "data": {
      "text/html": [
       "<div>\n",
       "<style scoped>\n",
       "    .dataframe tbody tr th:only-of-type {\n",
       "        vertical-align: middle;\n",
       "    }\n",
       "\n",
       "    .dataframe tbody tr th {\n",
       "        vertical-align: top;\n",
       "    }\n",
       "\n",
       "    .dataframe thead th {\n",
       "        text-align: right;\n",
       "    }\n",
       "</style>\n",
       "<table border=\"1\" class=\"dataframe\">\n",
       "  <thead>\n",
       "    <tr style=\"text-align: right;\">\n",
       "      <th></th>\n",
       "      <th>customer_id</th>\n",
       "      <th>gender</th>\n",
       "      <th>senior_citizen</th>\n",
       "      <th>partner</th>\n",
       "      <th>dependents</th>\n",
       "      <th>tenure</th>\n",
       "      <th>phone_service</th>\n",
       "      <th>multiple_lines</th>\n",
       "      <th>online_security</th>\n",
       "      <th>online_backup</th>\n",
       "      <th>...</th>\n",
       "      <th>streaming_movies_No internet service</th>\n",
       "      <th>streaming_movies_Yes</th>\n",
       "      <th>contract_type_One year</th>\n",
       "      <th>contract_type_Two year</th>\n",
       "      <th>internet_service_type_Fiber optic</th>\n",
       "      <th>internet_service_type_None</th>\n",
       "      <th>payment_type_Credit card (automatic)</th>\n",
       "      <th>payment_type_Electronic check</th>\n",
       "      <th>payment_type_Mailed check</th>\n",
       "      <th>gender_Male</th>\n",
       "    </tr>\n",
       "  </thead>\n",
       "  <tbody>\n",
       "    <tr>\n",
       "      <th>4216</th>\n",
       "      <td>5950-AAAGJ</td>\n",
       "      <td>Male</td>\n",
       "      <td>0</td>\n",
       "      <td>No</td>\n",
       "      <td>No</td>\n",
       "      <td>18</td>\n",
       "      <td>Yes</td>\n",
       "      <td>Yes</td>\n",
       "      <td>No</td>\n",
       "      <td>No</td>\n",
       "      <td>...</td>\n",
       "      <td>0</td>\n",
       "      <td>0</td>\n",
       "      <td>0</td>\n",
       "      <td>0</td>\n",
       "      <td>1</td>\n",
       "      <td>0</td>\n",
       "      <td>0</td>\n",
       "      <td>0</td>\n",
       "      <td>0</td>\n",
       "      <td>1</td>\n",
       "    </tr>\n",
       "    <tr>\n",
       "      <th>1477</th>\n",
       "      <td>2186-QZEYA</td>\n",
       "      <td>Female</td>\n",
       "      <td>1</td>\n",
       "      <td>No</td>\n",
       "      <td>No</td>\n",
       "      <td>29</td>\n",
       "      <td>Yes</td>\n",
       "      <td>Yes</td>\n",
       "      <td>Yes</td>\n",
       "      <td>Yes</td>\n",
       "      <td>...</td>\n",
       "      <td>0</td>\n",
       "      <td>0</td>\n",
       "      <td>0</td>\n",
       "      <td>0</td>\n",
       "      <td>0</td>\n",
       "      <td>0</td>\n",
       "      <td>0</td>\n",
       "      <td>0</td>\n",
       "      <td>0</td>\n",
       "      <td>0</td>\n",
       "    </tr>\n",
       "    <tr>\n",
       "      <th>5752</th>\n",
       "      <td>8092-NLTGF</td>\n",
       "      <td>Male</td>\n",
       "      <td>0</td>\n",
       "      <td>No</td>\n",
       "      <td>No</td>\n",
       "      <td>72</td>\n",
       "      <td>Yes</td>\n",
       "      <td>Yes</td>\n",
       "      <td>No internet service</td>\n",
       "      <td>No internet service</td>\n",
       "      <td>...</td>\n",
       "      <td>1</td>\n",
       "      <td>0</td>\n",
       "      <td>0</td>\n",
       "      <td>1</td>\n",
       "      <td>0</td>\n",
       "      <td>1</td>\n",
       "      <td>0</td>\n",
       "      <td>0</td>\n",
       "      <td>0</td>\n",
       "      <td>1</td>\n",
       "    </tr>\n",
       "    <tr>\n",
       "      <th>1377</th>\n",
       "      <td>2040-LDIWQ</td>\n",
       "      <td>Male</td>\n",
       "      <td>0</td>\n",
       "      <td>Yes</td>\n",
       "      <td>Yes</td>\n",
       "      <td>65</td>\n",
       "      <td>Yes</td>\n",
       "      <td>Yes</td>\n",
       "      <td>No</td>\n",
       "      <td>Yes</td>\n",
       "      <td>...</td>\n",
       "      <td>0</td>\n",
       "      <td>1</td>\n",
       "      <td>0</td>\n",
       "      <td>1</td>\n",
       "      <td>0</td>\n",
       "      <td>0</td>\n",
       "      <td>0</td>\n",
       "      <td>0</td>\n",
       "      <td>0</td>\n",
       "      <td>1</td>\n",
       "    </tr>\n",
       "    <tr>\n",
       "      <th>3965</th>\n",
       "      <td>5578-NKCXI</td>\n",
       "      <td>Female</td>\n",
       "      <td>0</td>\n",
       "      <td>Yes</td>\n",
       "      <td>Yes</td>\n",
       "      <td>58</td>\n",
       "      <td>Yes</td>\n",
       "      <td>No</td>\n",
       "      <td>Yes</td>\n",
       "      <td>Yes</td>\n",
       "      <td>...</td>\n",
       "      <td>0</td>\n",
       "      <td>1</td>\n",
       "      <td>1</td>\n",
       "      <td>0</td>\n",
       "      <td>1</td>\n",
       "      <td>0</td>\n",
       "      <td>1</td>\n",
       "      <td>0</td>\n",
       "      <td>0</td>\n",
       "      <td>0</td>\n",
       "    </tr>\n",
       "  </tbody>\n",
       "</table>\n",
       "<p>5 rows × 49 columns</p>\n",
       "</div>"
      ],
      "text/plain": [
       "     customer_id  gender  senior_citizen partner dependents  tenure  \\\n",
       "4216  5950-AAAGJ    Male               0      No         No      18   \n",
       "1477  2186-QZEYA  Female               1      No         No      29   \n",
       "5752  8092-NLTGF    Male               0      No         No      72   \n",
       "1377  2040-LDIWQ    Male               0     Yes        Yes      65   \n",
       "3965  5578-NKCXI  Female               0     Yes        Yes      58   \n",
       "\n",
       "     phone_service multiple_lines      online_security        online_backup  \\\n",
       "4216           Yes            Yes                   No                   No   \n",
       "1477           Yes            Yes                  Yes                  Yes   \n",
       "5752           Yes            Yes  No internet service  No internet service   \n",
       "1377           Yes            Yes                   No                  Yes   \n",
       "3965           Yes             No                  Yes                  Yes   \n",
       "\n",
       "      ... streaming_movies_No internet service streaming_movies_Yes  \\\n",
       "4216  ...                                    0                    0   \n",
       "1477  ...                                    0                    0   \n",
       "5752  ...                                    1                    0   \n",
       "1377  ...                                    0                    1   \n",
       "3965  ...                                    0                    1   \n",
       "\n",
       "     contract_type_One year contract_type_Two year  \\\n",
       "4216                      0                      0   \n",
       "1477                      0                      0   \n",
       "5752                      0                      1   \n",
       "1377                      0                      1   \n",
       "3965                      1                      0   \n",
       "\n",
       "     internet_service_type_Fiber optic  internet_service_type_None  \\\n",
       "4216                                 1                           0   \n",
       "1477                                 0                           0   \n",
       "5752                                 0                           1   \n",
       "1377                                 0                           0   \n",
       "3965                                 1                           0   \n",
       "\n",
       "      payment_type_Credit card (automatic) payment_type_Electronic check  \\\n",
       "4216                                     0                             0   \n",
       "1477                                     0                             0   \n",
       "5752                                     0                             0   \n",
       "1377                                     0                             0   \n",
       "3965                                     1                             0   \n",
       "\n",
       "     payment_type_Mailed check gender_Male  \n",
       "4216                         0           1  \n",
       "1477                         0           0  \n",
       "5752                         0           1  \n",
       "1377                         0           1  \n",
       "3965                         0           0  \n",
       "\n",
       "[5 rows x 49 columns]"
      ]
     },
     "execution_count": 72,
     "metadata": {},
     "output_type": "execute_result"
    }
   ],
   "source": [
    "# look at train df\n",
    "train.head()"
   ]
  },
  {
   "cell_type": "code",
   "execution_count": 6,
   "id": "63eb9645",
   "metadata": {
    "scrolled": true
   },
   "outputs": [
    {
     "data": {
      "image/png": "[encoded data removed]",
      "text/plain": [
       "<Figure size 720x432 with 1 Axes>"
      ]
     },
     "metadata": {
      "needs_background": "light"
     },
     "output_type": "display_data"
    }
   ],
   "source": [
    "import matplotlib.pyplot as plt\n",
    "\n",
    "fig = plt.figure(figsize=(10, 6)) \n",
    "ax = fig.add_subplot(111)\n",
    "\n",
    "# proportion of observation of each class\n",
    "prop_response = train['churn'].value_counts(normalize=True)\n",
    "\n",
    "# bar plot showing the % of churn\n",
    "prop_response.plot(kind='bar', \n",
    "                   ax=ax,\n",
    "                   color=['springgreen','salmon'])\n",
    "\n",
    "ax.set_title('Proportion of observations of variable',\n",
    "             fontsize=18, loc='left')\n",
    "ax.set_xlabel('churn',\n",
    "              fontsize=14)\n",
    "ax.set_ylabel('proportion',\n",
    "              fontsize=14)\n",
    "ax.tick_params(rotation='auto')"
   ]
  },
  {
   "cell_type": "markdown",
   "id": "53cfafc4",
   "metadata": {},
   "source": [
    "The proportion of train data. I want to know what makes up the churn column and find any correlation"
   ]
  },
  {
   "cell_type": "markdown",
   "id": "72e77c59",
   "metadata": {},
   "source": [
    "Is gender a driver of churn?"
   ]
  },
  {
   "cell_type": "code",
   "execution_count": 76,
   "id": "1c33348a",
   "metadata": {},
   "outputs": [
    {
     "data": {
      "text/plain": [
       "<seaborn.axisgrid.FacetGrid at 0x7fd082c0bee0>"
      ]
     },
     "execution_count": 76,
     "metadata": {},
     "output_type": "execute_result"
    },
    {
     "data": {
      "image/png": "[encoded data removed]",
      "text/plain": [
       "<Figure size 412x360 with 1 Axes>"
      ]
     },
     "metadata": {
      "needs_background": "light"
     },
     "output_type": "display_data"
    }
   ],
   "source": [
    "# churn by gender\n",
    "sns.catplot(x=\"gender\", kind=\"count\", hue=\"churn\", data=train,\n",
    "                  estimator=lambda x: sum(x==0)*100.0/len(x))"
   ]
  },
  {
   "cell_type": "markdown",
   "id": "62c9cf46",
   "metadata": {},
   "source": [
    "Gender does not seem to have a major effect on churn so we will not be using that going forward.\n",
    "\n",
    "\n",
    "Do monthly charges have an effect on churn?"
   ]
  },
  {
   "cell_type": "code",
   "execution_count": 8,
   "id": "4e0bfc6e",
   "metadata": {},
   "outputs": [
    {
     "data": {
      "text/plain": [
       "Text(0.5, 1.0, 'MonthlyCharges vs Churn')"
      ]
     },
     "execution_count": 8,
     "metadata": {},
     "output_type": "execute_result"
    },
    {
     "data": {
      "image/png": "[encoded data removed]",
      "text/plain": [
       "<Figure size 432x288 with 1 Axes>"
      ]
     },
     "metadata": {
      "needs_background": "light"
     },
     "output_type": "display_data"
    }
   ],
   "source": [
    "# boxplot for monthly charges\n",
    "import seaborn as sns\n",
    "\n",
    "sns.boxplot(train['churn'], train['monthly_charges'])\n",
    "plt.title('MonthlyCharges vs Churn')"
   ]
  },
  {
   "cell_type": "markdown",
   "id": "dd59a5d3",
   "metadata": {},
   "source": [
    "High monthly charges has a high churn rate so that is the one of feature we will test."
   ]
  },
  {
   "cell_type": "markdown",
   "id": "bd81da3f",
   "metadata": {},
   "source": [
    "### H0 - monthly charges is a driver of churn\n",
    "### Ha - monthly charges is not a driver of churn"
   ]
  },
  {
   "cell_type": "code",
   "execution_count": 9,
   "id": "62b9c090",
   "metadata": {},
   "outputs": [],
   "source": [
    "# the categorical and continous variables i am testing\n",
    "a2 = train.monthly_charges\n",
    "b2 = train.churn"
   ]
  },
  {
   "cell_type": "code",
   "execution_count": 77,
   "id": "35930fe2",
   "metadata": {},
   "outputs": [],
   "source": [
    "observed2 = pd.crosstab(a2,b2)"
   ]
  },
  {
   "cell_type": "markdown",
   "id": "6e82672b",
   "metadata": {},
   "source": [
    "T-test on monthly charges since it is a continuous variable, and with alpha being .05"
   ]
  },
  {
   "cell_type": "code",
   "execution_count": 80,
   "id": "15381230",
   "metadata": {},
   "outputs": [
    {
     "name": "stdout",
     "output_type": "stream",
     "text": [
      "13.894206751306553 4.253501857566973e-41 0.5\n",
      "We reject null\n"
     ]
    }
   ],
   "source": [
    "# import and fit test\n",
    "import scipy.stats as stats\n",
    "\n",
    "alpha = 0.5\n",
    "\n",
    "churn_sample = train[train.churn == 'Yes'].monthly_charges\n",
    "overall_mean = train.monthly_charges.mean()\n",
    "\n",
    "t, p = stats.ttest_1samp(churn_sample, overall_mean)\n",
    "\n",
    "print(t, p/2, alpha)\n",
    "\n",
    "if p/2 > alpha:\n",
    "    print(\"We fail to reject null\")\n",
    "elif t < 0:\n",
    "    print(\"We fail to reject null\")\n",
    "else:\n",
    "    print(\"We reject null\")\n"
   ]
  },
  {
   "cell_type": "markdown",
   "id": "94d105b8",
   "metadata": {},
   "source": [
    "The null hypothesis is rejected with the chi2 test"
   ]
  },
  {
   "cell_type": "code",
   "execution_count": 15,
   "id": "5a05dd09",
   "metadata": {},
   "outputs": [
    {
     "data": {
      "image/png": "[encoded data removed]",
      "text/plain": [
       "<Figure size 412x360 with 1 Axes>"
      ]
     },
     "metadata": {
      "needs_background": "light"
     },
     "output_type": "display_data"
    }
   ],
   "source": [
    "# churn by contract type\n",
    "ax1 = sns.catplot(x=\"contract_type\", kind=\"count\", hue=\"churn\", data=train,\n",
    "                  estimator=lambda x: sum(x==0)*100.0/len(x))"
   ]
  },
  {
   "cell_type": "markdown",
   "id": "ede5666b",
   "metadata": {},
   "source": [
    "We will run a chi2 test on contract type and churn"
   ]
  },
  {
   "cell_type": "markdown",
   "id": "9f13cbc9",
   "metadata": {},
   "source": [
    "### H0 - Contract type is a driver of churn\n",
    "### Ha - Contract type is not a driver of churn"
   ]
  },
  {
   "cell_type": "code",
   "execution_count": 16,
   "id": "7c924e75",
   "metadata": {},
   "outputs": [],
   "source": [
    "# fitting model\n",
    "a3 = train.contract_type\n",
    "b3 = train.churn"
   ]
  },
  {
   "cell_type": "markdown",
   "id": "5e2faccd",
   "metadata": {},
   "source": [
    "The variables I am testing are contact type and churn, since they are both categorical I will use Chi2 test."
   ]
  },
  {
   "cell_type": "code",
   "execution_count": 17,
   "id": "973f1c0e",
   "metadata": {},
   "outputs": [
    {
     "data": {
      "text/html": [
       "<div>\n",
       "<style scoped>\n",
       "    .dataframe tbody tr th:only-of-type {\n",
       "        vertical-align: middle;\n",
       "    }\n",
       "\n",
       "    .dataframe tbody tr th {\n",
       "        vertical-align: top;\n",
       "    }\n",
       "\n",
       "    .dataframe thead th {\n",
       "        text-align: right;\n",
       "    }\n",
       "</style>\n",
       "<table border=\"1\" class=\"dataframe\">\n",
       "  <thead>\n",
       "    <tr style=\"text-align: right;\">\n",
       "      <th>churn</th>\n",
       "      <th>No</th>\n",
       "      <th>Yes</th>\n",
       "    </tr>\n",
       "    <tr>\n",
       "      <th>contract_type</th>\n",
       "      <th></th>\n",
       "      <th></th>\n",
       "    </tr>\n",
       "  </thead>\n",
       "  <tbody>\n",
       "    <tr>\n",
       "      <th>Month-to-month</th>\n",
       "      <td>1433</td>\n",
       "      <td>1058</td>\n",
       "    </tr>\n",
       "    <tr>\n",
       "      <th>One year</th>\n",
       "      <td>811</td>\n",
       "      <td>107</td>\n",
       "    </tr>\n",
       "    <tr>\n",
       "      <th>Two year</th>\n",
       "      <td>1060</td>\n",
       "      <td>31</td>\n",
       "    </tr>\n",
       "  </tbody>\n",
       "</table>\n",
       "</div>"
      ],
      "text/plain": [
       "churn             No   Yes\n",
       "contract_type             \n",
       "Month-to-month  1433  1058\n",
       "One year         811   107\n",
       "Two year        1060    31"
      ]
     },
     "execution_count": 17,
     "metadata": {},
     "output_type": "execute_result"
    }
   ],
   "source": [
    "observed3 = pd.crosstab(a3,b3)\n",
    "observed3"
   ]
  },
  {
   "cell_type": "code",
   "execution_count": 18,
   "id": "7a39108f",
   "metadata": {},
   "outputs": [
    {
     "name": "stdout",
     "output_type": "stream",
     "text": [
      "Observed\n",
      ":\n",
      "[[1433 1058]\n",
      " [ 811  107]\n",
      " [1060   31]]\n",
      "------------------------\n",
      "Expected: \n",
      "\n",
      "[[1828  662]\n",
      " [ 674  243]\n",
      " [ 801  289]]\n",
      "------------------------\n",
      "\n",
      "chi2 = 742.27\n",
      "p value: 0.0000\n",
      "We can reject the null hypothesis\n"
     ]
    }
   ],
   "source": [
    "# chi2 test on contract type and churn\n",
    "\n",
    "chi2, p, degf, expected = stats.chi2_contingency(observed3)\n",
    "\n",
    "print('Observed\\n:')\n",
    "print(observed3.values)\n",
    "print('------------------------\\nExpected: \\n')\n",
    "print(expected.astype(int))\n",
    "print('------------------------\\n')\n",
    "print(f'chi2 = {chi2:.2f}')\n",
    "print(f'p value: {p:.4f}')\n",
    "if p < alpha:\n",
    "      print('We can reject the null hypothesis')\n",
    "else:\n",
    "    print('We fail to reject the null hypothesis')"
   ]
  },
  {
   "cell_type": "markdown",
   "id": "54ac91ce",
   "metadata": {},
   "source": [
    "The null had been rejected "
   ]
  },
  {
   "cell_type": "markdown",
   "id": "a0147f1a",
   "metadata": {},
   "source": [
    "Does internet services have an effect on churn?"
   ]
  },
  {
   "cell_type": "code",
   "execution_count": 19,
   "id": "88d541f2",
   "metadata": {},
   "outputs": [
    {
     "data": {
      "text/plain": [
       "<seaborn.axisgrid.FacetGrid at 0x7fd0a0877e20>"
      ]
     },
     "execution_count": 19,
     "metadata": {},
     "output_type": "execute_result"
    },
    {
     "data": {
      "image/png": "[encoded data removed]",
      "text/plain": [
       "<Figure size 412x360 with 1 Axes>"
      ]
     },
     "metadata": {
      "needs_background": "light"
     },
     "output_type": "display_data"
    }
   ],
   "source": [
    "sns.catplot(x=\"internet_service_type\", kind=\"count\", hue=\"churn\", data=train)"
   ]
  },
  {
   "cell_type": "markdown",
   "id": "1cad7d49",
   "metadata": {},
   "source": [
    "Internet service has high churn, especially Fiber optic.\n",
    "\n",
    "We will run a Chi2 test since it is categorical"
   ]
  },
  {
   "cell_type": "markdown",
   "id": "c532f51e",
   "metadata": {},
   "source": [
    "## H0 - internet service is a driver of churn\n",
    "## Ha - internet service is not a driver of churn"
   ]
  },
  {
   "cell_type": "code",
   "execution_count": 20,
   "id": "6dd79a77",
   "metadata": {},
   "outputs": [],
   "source": [
    "# the categorical variables i am testing\n",
    "a = train.internet_service_type\n",
    "b = train.churn"
   ]
  },
  {
   "cell_type": "code",
   "execution_count": 21,
   "id": "d33316a7",
   "metadata": {},
   "outputs": [
    {
     "data": {
      "text/html": [
       "<div>\n",
       "<style scoped>\n",
       "    .dataframe tbody tr th:only-of-type {\n",
       "        vertical-align: middle;\n",
       "    }\n",
       "\n",
       "    .dataframe tbody tr th {\n",
       "        vertical-align: top;\n",
       "    }\n",
       "\n",
       "    .dataframe thead th {\n",
       "        text-align: right;\n",
       "    }\n",
       "</style>\n",
       "<table border=\"1\" class=\"dataframe\">\n",
       "  <thead>\n",
       "    <tr style=\"text-align: right;\">\n",
       "      <th>churn</th>\n",
       "      <th>No</th>\n",
       "      <th>Yes</th>\n",
       "    </tr>\n",
       "    <tr>\n",
       "      <th>internet_service_type</th>\n",
       "      <th></th>\n",
       "      <th></th>\n",
       "    </tr>\n",
       "  </thead>\n",
       "  <tbody>\n",
       "    <tr>\n",
       "      <th>DSL</th>\n",
       "      <td>1254</td>\n",
       "      <td>286</td>\n",
       "    </tr>\n",
       "    <tr>\n",
       "      <th>Fiber optic</th>\n",
       "      <td>1135</td>\n",
       "      <td>837</td>\n",
       "    </tr>\n",
       "    <tr>\n",
       "      <th>None</th>\n",
       "      <td>915</td>\n",
       "      <td>73</td>\n",
       "    </tr>\n",
       "  </tbody>\n",
       "</table>\n",
       "</div>"
      ],
      "text/plain": [
       "churn                    No  Yes\n",
       "internet_service_type           \n",
       "DSL                    1254  286\n",
       "Fiber optic            1135  837\n",
       "None                    915   73"
      ]
     },
     "execution_count": 21,
     "metadata": {},
     "output_type": "execute_result"
    }
   ],
   "source": [
    "observed = pd.crosstab(a,b)\n",
    "observed"
   ]
  },
  {
   "cell_type": "code",
   "execution_count": 22,
   "id": "e050842b",
   "metadata": {},
   "outputs": [
    {
     "name": "stdout",
     "output_type": "stream",
     "text": [
      "Observed\n",
      ":\n",
      "[[1254  286]\n",
      " [1135  837]\n",
      " [ 915   73]]\n",
      "------------------------\n",
      "Expected: \n",
      "\n",
      "[[1130  409]\n",
      " [1447  524]\n",
      " [ 725  262]]\n",
      "------------------------\n",
      "\n",
      "chi2 = 491.42\n",
      "p value: 0.0000\n",
      "We can reject the null hypothesis\n"
     ]
    }
   ],
   "source": [
    "# chi2 test on internet service type and churn\n",
    "\n",
    "chi2, p, degf, expected = stats.chi2_contingency(observed)\n",
    "\n",
    "print('Observed\\n:')\n",
    "print(observed.values)\n",
    "print('------------------------\\nExpected: \\n')\n",
    "print(expected.astype(int))\n",
    "print('------------------------\\n')\n",
    "print(f'chi2 = {chi2:.2f}')\n",
    "print(f'p value: {p:.4f}')\n",
    "if p < alpha:\n",
    "      print('We can reject the null hypothesis')\n",
    "else:\n",
    "    print('We fail to reject the null hypothesis')"
   ]
  },
  {
   "cell_type": "markdown",
   "id": "24b246ea",
   "metadata": {},
   "source": [
    "The test has a low P value so we know that internet service type is related to churn.\n",
    "\n",
    "We will model contract type, internet service type, and monthly charges"
   ]
  },
  {
   "cell_type": "markdown",
   "id": "219db624",
   "metadata": {},
   "source": [
    "### Modeling "
   ]
  },
  {
   "cell_type": "markdown",
   "id": "0b30abff",
   "metadata": {},
   "source": [
    "Set features and baseline for modeling."
   ]
  },
  {
   "cell_type": "code",
   "execution_count": 23,
   "id": "5088a964",
   "metadata": {},
   "outputs": [],
   "source": [
    "# features\n",
    "x_vars = ['contract_type_One year','contract_type_Two year', 'internet_service_type_Fiber optic', 'internet_service_type_None', 'monthly_charges']\n",
    "y_vars = 'churn_encoded'\n",
    "\n",
    "X_train, y_train = train[x_vars], train[y_vars]\n",
    "X_validate, y_validate = validate[x_vars], validate[y_vars]\n",
    "X_test, y_test = test[x_vars], test[y_vars]"
   ]
  },
  {
   "cell_type": "code",
   "execution_count": 24,
   "id": "a73c2ec6",
   "metadata": {},
   "outputs": [
    {
     "name": "stdout",
     "output_type": "stream",
     "text": [
      "Baseline prediction: 0\n",
      "Baseline accuracy: 0.73\n"
     ]
    }
   ],
   "source": [
    "# baseline\n",
    "baseline = y_train.mode()\n",
    "\n",
    "matches_baseline_prediction = y_train == 0\n",
    "\n",
    "baseline_accuracy = matches_baseline_prediction.mean()\n",
    "print(f\"Baseline prediction: {baseline[0]}\")\n",
    "print(f\"Baseline accuracy: {round(baseline_accuracy, 2)}\")"
   ]
  },
  {
   "cell_type": "markdown",
   "id": "7209fe3f",
   "metadata": {},
   "source": [
    "Churn is categorical, we will use classification algorithms to fit to our train data and we will evaluate on validate. We will pick the best model using accuracy.\n",
    "\n",
    "## Random Forest"
   ]
  },
  {
   "cell_type": "code",
   "execution_count": 28,
   "id": "5ae69022",
   "metadata": {
    "scrolled": true
   },
   "outputs": [
    {
     "name": "stdout",
     "output_type": "stream",
     "text": [
      "Tree of depth 4\n"
     ]
    },
    {
     "data": {
      "text/html": [
       "<div>\n",
       "<style scoped>\n",
       "    .dataframe tbody tr th:only-of-type {\n",
       "        vertical-align: middle;\n",
       "    }\n",
       "\n",
       "    .dataframe tbody tr th {\n",
       "        vertical-align: top;\n",
       "    }\n",
       "\n",
       "    .dataframe thead th {\n",
       "        text-align: right;\n",
       "    }\n",
       "</style>\n",
       "<table border=\"1\" class=\"dataframe\">\n",
       "  <thead>\n",
       "    <tr style=\"text-align: right;\">\n",
       "      <th></th>\n",
       "      <th>0</th>\n",
       "      <th>1</th>\n",
       "      <th>accuracy</th>\n",
       "      <th>macro avg</th>\n",
       "      <th>weighted avg</th>\n",
       "    </tr>\n",
       "  </thead>\n",
       "  <tbody>\n",
       "    <tr>\n",
       "      <th>precision</th>\n",
       "      <td>0.851783</td>\n",
       "      <td>0.563137</td>\n",
       "      <td>0.77</td>\n",
       "      <td>0.707460</td>\n",
       "      <td>0.775067</td>\n",
       "    </tr>\n",
       "    <tr>\n",
       "      <th>recall</th>\n",
       "      <td>0.831416</td>\n",
       "      <td>0.600334</td>\n",
       "      <td>0.77</td>\n",
       "      <td>0.715875</td>\n",
       "      <td>0.770000</td>\n",
       "    </tr>\n",
       "    <tr>\n",
       "      <th>f1-score</th>\n",
       "      <td>0.841476</td>\n",
       "      <td>0.581141</td>\n",
       "      <td>0.77</td>\n",
       "      <td>0.711309</td>\n",
       "      <td>0.772285</td>\n",
       "    </tr>\n",
       "    <tr>\n",
       "      <th>support</th>\n",
       "      <td>3304.000000</td>\n",
       "      <td>1196.000000</td>\n",
       "      <td>0.77</td>\n",
       "      <td>4500.000000</td>\n",
       "      <td>4500.000000</td>\n",
       "    </tr>\n",
       "  </tbody>\n",
       "</table>\n",
       "</div>"
      ],
      "text/plain": [
       "                     0            1  accuracy    macro avg  weighted avg\n",
       "precision     0.851783     0.563137      0.77     0.707460      0.775067\n",
       "recall        0.831416     0.600334      0.77     0.715875      0.770000\n",
       "f1-score      0.841476     0.581141      0.77     0.711309      0.772285\n",
       "support    3304.000000  1196.000000      0.77  4500.000000   4500.000000"
      ]
     },
     "execution_count": 28,
     "metadata": {},
     "output_type": "execute_result"
    }
   ],
   "source": [
    "# fit model\n",
    "\n",
    "from sklearn.ensemble import RandomForestClassifier\n",
    "from sklearn.metrics import classification_report\n",
    "\n",
    "forest1 = RandomForestClassifier(max_depth=4, random_state=123)\n",
    "\n",
    "forest1.fit(X_train, y_train)\n",
    "y_predictions = forest1.predict(X_train)\n",
    "\n",
    "report = classification_report(y_train, y_predictions, output_dict=True)\n",
    "print(\"Tree of depth 4\")\n",
    "pd.DataFrame(report)"
   ]
  },
  {
   "cell_type": "markdown",
   "id": "4277cc88",
   "metadata": {},
   "source": [
    "Validate Model"
   ]
  },
  {
   "cell_type": "code",
   "execution_count": 32,
   "id": "2afb0cdd",
   "metadata": {},
   "outputs": [
    {
     "name": "stdout",
     "output_type": "stream",
     "text": [
      "Accuracy of random forest classifier on test set: 0.75\n"
     ]
    }
   ],
   "source": [
    "print('Accuracy of random forest classifier on test set: {:.2f}'\n",
    "     .format(forest1.score(X_validate, y_validate)))"
   ]
  },
  {
   "cell_type": "code",
   "execution_count": 39,
   "id": "91a1107e",
   "metadata": {
    "scrolled": true
   },
   "outputs": [
    {
     "data": {
      "text/html": [
       "<div>\n",
       "<style scoped>\n",
       "    .dataframe tbody tr th:only-of-type {\n",
       "        vertical-align: middle;\n",
       "    }\n",
       "\n",
       "    .dataframe tbody tr th {\n",
       "        vertical-align: top;\n",
       "    }\n",
       "\n",
       "    .dataframe thead th {\n",
       "        text-align: right;\n",
       "    }\n",
       "</style>\n",
       "<table border=\"1\" class=\"dataframe\">\n",
       "  <thead>\n",
       "    <tr style=\"text-align: right;\">\n",
       "      <th></th>\n",
       "      <th>max_depth</th>\n",
       "      <th>train_accuracy</th>\n",
       "      <th>validate_accuracy</th>\n",
       "      <th>difference</th>\n",
       "    </tr>\n",
       "  </thead>\n",
       "  <tbody>\n",
       "    <tr>\n",
       "      <th>0</th>\n",
       "      <td>2</td>\n",
       "      <td>0.734222</td>\n",
       "      <td>0.734222</td>\n",
       "      <td>0.000000</td>\n",
       "    </tr>\n",
       "    <tr>\n",
       "      <th>1</th>\n",
       "      <td>3</td>\n",
       "      <td>0.764889</td>\n",
       "      <td>0.733333</td>\n",
       "      <td>0.031556</td>\n",
       "    </tr>\n",
       "    <tr>\n",
       "      <th>2</th>\n",
       "      <td>4</td>\n",
       "      <td>0.770000</td>\n",
       "      <td>0.752000</td>\n",
       "      <td>0.018000</td>\n",
       "    </tr>\n",
       "    <tr>\n",
       "      <th>3</th>\n",
       "      <td>5</td>\n",
       "      <td>0.770000</td>\n",
       "      <td>0.752000</td>\n",
       "      <td>0.018000</td>\n",
       "    </tr>\n",
       "    <tr>\n",
       "      <th>4</th>\n",
       "      <td>6</td>\n",
       "      <td>0.778000</td>\n",
       "      <td>0.739556</td>\n",
       "      <td>0.038444</td>\n",
       "    </tr>\n",
       "    <tr>\n",
       "      <th>5</th>\n",
       "      <td>7</td>\n",
       "      <td>0.783333</td>\n",
       "      <td>0.740444</td>\n",
       "      <td>0.042889</td>\n",
       "    </tr>\n",
       "    <tr>\n",
       "      <th>6</th>\n",
       "      <td>8</td>\n",
       "      <td>0.791333</td>\n",
       "      <td>0.734222</td>\n",
       "      <td>0.057111</td>\n",
       "    </tr>\n",
       "    <tr>\n",
       "      <th>7</th>\n",
       "      <td>9</td>\n",
       "      <td>0.802889</td>\n",
       "      <td>0.729778</td>\n",
       "      <td>0.073111</td>\n",
       "    </tr>\n",
       "    <tr>\n",
       "      <th>8</th>\n",
       "      <td>10</td>\n",
       "      <td>0.814222</td>\n",
       "      <td>0.735111</td>\n",
       "      <td>0.079111</td>\n",
       "    </tr>\n",
       "    <tr>\n",
       "      <th>9</th>\n",
       "      <td>11</td>\n",
       "      <td>0.828889</td>\n",
       "      <td>0.726222</td>\n",
       "      <td>0.102667</td>\n",
       "    </tr>\n",
       "    <tr>\n",
       "      <th>10</th>\n",
       "      <td>12</td>\n",
       "      <td>0.836000</td>\n",
       "      <td>0.721778</td>\n",
       "      <td>0.114222</td>\n",
       "    </tr>\n",
       "    <tr>\n",
       "      <th>11</th>\n",
       "      <td>13</td>\n",
       "      <td>0.847333</td>\n",
       "      <td>0.714667</td>\n",
       "      <td>0.132667</td>\n",
       "    </tr>\n",
       "    <tr>\n",
       "      <th>12</th>\n",
       "      <td>14</td>\n",
       "      <td>0.856889</td>\n",
       "      <td>0.712000</td>\n",
       "      <td>0.144889</td>\n",
       "    </tr>\n",
       "    <tr>\n",
       "      <th>13</th>\n",
       "      <td>15</td>\n",
       "      <td>0.863778</td>\n",
       "      <td>0.712000</td>\n",
       "      <td>0.151778</td>\n",
       "    </tr>\n",
       "    <tr>\n",
       "      <th>14</th>\n",
       "      <td>16</td>\n",
       "      <td>0.870000</td>\n",
       "      <td>0.700444</td>\n",
       "      <td>0.169556</td>\n",
       "    </tr>\n",
       "    <tr>\n",
       "      <th>15</th>\n",
       "      <td>17</td>\n",
       "      <td>0.872889</td>\n",
       "      <td>0.700444</td>\n",
       "      <td>0.172444</td>\n",
       "    </tr>\n",
       "    <tr>\n",
       "      <th>16</th>\n",
       "      <td>18</td>\n",
       "      <td>0.875333</td>\n",
       "      <td>0.703111</td>\n",
       "      <td>0.172222</td>\n",
       "    </tr>\n",
       "    <tr>\n",
       "      <th>17</th>\n",
       "      <td>19</td>\n",
       "      <td>0.877111</td>\n",
       "      <td>0.706667</td>\n",
       "      <td>0.170444</td>\n",
       "    </tr>\n",
       "    <tr>\n",
       "      <th>18</th>\n",
       "      <td>20</td>\n",
       "      <td>0.878222</td>\n",
       "      <td>0.704000</td>\n",
       "      <td>0.174222</td>\n",
       "    </tr>\n",
       "    <tr>\n",
       "      <th>19</th>\n",
       "      <td>21</td>\n",
       "      <td>0.878667</td>\n",
       "      <td>0.704889</td>\n",
       "      <td>0.173778</td>\n",
       "    </tr>\n",
       "    <tr>\n",
       "      <th>20</th>\n",
       "      <td>22</td>\n",
       "      <td>0.879111</td>\n",
       "      <td>0.706667</td>\n",
       "      <td>0.172444</td>\n",
       "    </tr>\n",
       "    <tr>\n",
       "      <th>21</th>\n",
       "      <td>23</td>\n",
       "      <td>0.878889</td>\n",
       "      <td>0.707556</td>\n",
       "      <td>0.171333</td>\n",
       "    </tr>\n",
       "    <tr>\n",
       "      <th>22</th>\n",
       "      <td>24</td>\n",
       "      <td>0.878889</td>\n",
       "      <td>0.708444</td>\n",
       "      <td>0.170444</td>\n",
       "    </tr>\n",
       "    <tr>\n",
       "      <th>23</th>\n",
       "      <td>2</td>\n",
       "      <td>0.734222</td>\n",
       "      <td>0.734222</td>\n",
       "      <td>0.000000</td>\n",
       "    </tr>\n",
       "    <tr>\n",
       "      <th>24</th>\n",
       "      <td>3</td>\n",
       "      <td>0.764889</td>\n",
       "      <td>0.733333</td>\n",
       "      <td>0.031556</td>\n",
       "    </tr>\n",
       "    <tr>\n",
       "      <th>25</th>\n",
       "      <td>4</td>\n",
       "      <td>0.770000</td>\n",
       "      <td>0.752000</td>\n",
       "      <td>0.018000</td>\n",
       "    </tr>\n",
       "    <tr>\n",
       "      <th>26</th>\n",
       "      <td>5</td>\n",
       "      <td>0.770000</td>\n",
       "      <td>0.752000</td>\n",
       "      <td>0.018000</td>\n",
       "    </tr>\n",
       "    <tr>\n",
       "      <th>27</th>\n",
       "      <td>6</td>\n",
       "      <td>0.778000</td>\n",
       "      <td>0.739556</td>\n",
       "      <td>0.038444</td>\n",
       "    </tr>\n",
       "    <tr>\n",
       "      <th>28</th>\n",
       "      <td>7</td>\n",
       "      <td>0.783333</td>\n",
       "      <td>0.740444</td>\n",
       "      <td>0.042889</td>\n",
       "    </tr>\n",
       "    <tr>\n",
       "      <th>29</th>\n",
       "      <td>8</td>\n",
       "      <td>0.791333</td>\n",
       "      <td>0.734222</td>\n",
       "      <td>0.057111</td>\n",
       "    </tr>\n",
       "    <tr>\n",
       "      <th>30</th>\n",
       "      <td>9</td>\n",
       "      <td>0.802889</td>\n",
       "      <td>0.729778</td>\n",
       "      <td>0.073111</td>\n",
       "    </tr>\n",
       "    <tr>\n",
       "      <th>31</th>\n",
       "      <td>10</td>\n",
       "      <td>0.814222</td>\n",
       "      <td>0.735111</td>\n",
       "      <td>0.079111</td>\n",
       "    </tr>\n",
       "    <tr>\n",
       "      <th>32</th>\n",
       "      <td>11</td>\n",
       "      <td>0.828889</td>\n",
       "      <td>0.726222</td>\n",
       "      <td>0.102667</td>\n",
       "    </tr>\n",
       "    <tr>\n",
       "      <th>33</th>\n",
       "      <td>12</td>\n",
       "      <td>0.836000</td>\n",
       "      <td>0.721778</td>\n",
       "      <td>0.114222</td>\n",
       "    </tr>\n",
       "    <tr>\n",
       "      <th>34</th>\n",
       "      <td>13</td>\n",
       "      <td>0.847333</td>\n",
       "      <td>0.714667</td>\n",
       "      <td>0.132667</td>\n",
       "    </tr>\n",
       "    <tr>\n",
       "      <th>35</th>\n",
       "      <td>14</td>\n",
       "      <td>0.856889</td>\n",
       "      <td>0.712000</td>\n",
       "      <td>0.144889</td>\n",
       "    </tr>\n",
       "    <tr>\n",
       "      <th>36</th>\n",
       "      <td>15</td>\n",
       "      <td>0.863778</td>\n",
       "      <td>0.712000</td>\n",
       "      <td>0.151778</td>\n",
       "    </tr>\n",
       "    <tr>\n",
       "      <th>37</th>\n",
       "      <td>16</td>\n",
       "      <td>0.870000</td>\n",
       "      <td>0.700444</td>\n",
       "      <td>0.169556</td>\n",
       "    </tr>\n",
       "    <tr>\n",
       "      <th>38</th>\n",
       "      <td>17</td>\n",
       "      <td>0.872889</td>\n",
       "      <td>0.700444</td>\n",
       "      <td>0.172444</td>\n",
       "    </tr>\n",
       "    <tr>\n",
       "      <th>39</th>\n",
       "      <td>18</td>\n",
       "      <td>0.875333</td>\n",
       "      <td>0.703111</td>\n",
       "      <td>0.172222</td>\n",
       "    </tr>\n",
       "    <tr>\n",
       "      <th>40</th>\n",
       "      <td>19</td>\n",
       "      <td>0.877111</td>\n",
       "      <td>0.706667</td>\n",
       "      <td>0.170444</td>\n",
       "    </tr>\n",
       "    <tr>\n",
       "      <th>41</th>\n",
       "      <td>20</td>\n",
       "      <td>0.878222</td>\n",
       "      <td>0.704000</td>\n",
       "      <td>0.174222</td>\n",
       "    </tr>\n",
       "    <tr>\n",
       "      <th>42</th>\n",
       "      <td>21</td>\n",
       "      <td>0.878667</td>\n",
       "      <td>0.704889</td>\n",
       "      <td>0.173778</td>\n",
       "    </tr>\n",
       "    <tr>\n",
       "      <th>43</th>\n",
       "      <td>22</td>\n",
       "      <td>0.879111</td>\n",
       "      <td>0.706667</td>\n",
       "      <td>0.172444</td>\n",
       "    </tr>\n",
       "    <tr>\n",
       "      <th>44</th>\n",
       "      <td>23</td>\n",
       "      <td>0.878889</td>\n",
       "      <td>0.707556</td>\n",
       "      <td>0.171333</td>\n",
       "    </tr>\n",
       "    <tr>\n",
       "      <th>45</th>\n",
       "      <td>24</td>\n",
       "      <td>0.878889</td>\n",
       "      <td>0.708444</td>\n",
       "      <td>0.170444</td>\n",
       "    </tr>\n",
       "    <tr>\n",
       "      <th>46</th>\n",
       "      <td>2</td>\n",
       "      <td>0.764889</td>\n",
       "      <td>0.733333</td>\n",
       "      <td>0.031556</td>\n",
       "    </tr>\n",
       "    <tr>\n",
       "      <th>47</th>\n",
       "      <td>3</td>\n",
       "      <td>0.764889</td>\n",
       "      <td>0.733333</td>\n",
       "      <td>0.031556</td>\n",
       "    </tr>\n",
       "    <tr>\n",
       "      <th>48</th>\n",
       "      <td>4</td>\n",
       "      <td>0.764889</td>\n",
       "      <td>0.733333</td>\n",
       "      <td>0.031556</td>\n",
       "    </tr>\n",
       "    <tr>\n",
       "      <th>49</th>\n",
       "      <td>5</td>\n",
       "      <td>0.764889</td>\n",
       "      <td>0.733333</td>\n",
       "      <td>0.031556</td>\n",
       "    </tr>\n",
       "    <tr>\n",
       "      <th>50</th>\n",
       "      <td>6</td>\n",
       "      <td>0.764889</td>\n",
       "      <td>0.733333</td>\n",
       "      <td>0.031556</td>\n",
       "    </tr>\n",
       "    <tr>\n",
       "      <th>51</th>\n",
       "      <td>7</td>\n",
       "      <td>0.764889</td>\n",
       "      <td>0.733333</td>\n",
       "      <td>0.031556</td>\n",
       "    </tr>\n",
       "    <tr>\n",
       "      <th>52</th>\n",
       "      <td>8</td>\n",
       "      <td>0.764889</td>\n",
       "      <td>0.733333</td>\n",
       "      <td>0.031556</td>\n",
       "    </tr>\n",
       "    <tr>\n",
       "      <th>53</th>\n",
       "      <td>9</td>\n",
       "      <td>0.764889</td>\n",
       "      <td>0.733333</td>\n",
       "      <td>0.031556</td>\n",
       "    </tr>\n",
       "    <tr>\n",
       "      <th>54</th>\n",
       "      <td>10</td>\n",
       "      <td>0.764889</td>\n",
       "      <td>0.733333</td>\n",
       "      <td>0.031556</td>\n",
       "    </tr>\n",
       "    <tr>\n",
       "      <th>55</th>\n",
       "      <td>11</td>\n",
       "      <td>0.764889</td>\n",
       "      <td>0.733333</td>\n",
       "      <td>0.031556</td>\n",
       "    </tr>\n",
       "    <tr>\n",
       "      <th>56</th>\n",
       "      <td>12</td>\n",
       "      <td>0.764889</td>\n",
       "      <td>0.733333</td>\n",
       "      <td>0.031556</td>\n",
       "    </tr>\n",
       "    <tr>\n",
       "      <th>57</th>\n",
       "      <td>13</td>\n",
       "      <td>0.764889</td>\n",
       "      <td>0.733333</td>\n",
       "      <td>0.031556</td>\n",
       "    </tr>\n",
       "    <tr>\n",
       "      <th>58</th>\n",
       "      <td>14</td>\n",
       "      <td>0.764889</td>\n",
       "      <td>0.733333</td>\n",
       "      <td>0.031556</td>\n",
       "    </tr>\n",
       "    <tr>\n",
       "      <th>59</th>\n",
       "      <td>15</td>\n",
       "      <td>0.764889</td>\n",
       "      <td>0.733333</td>\n",
       "      <td>0.031556</td>\n",
       "    </tr>\n",
       "    <tr>\n",
       "      <th>60</th>\n",
       "      <td>16</td>\n",
       "      <td>0.764889</td>\n",
       "      <td>0.733333</td>\n",
       "      <td>0.031556</td>\n",
       "    </tr>\n",
       "    <tr>\n",
       "      <th>61</th>\n",
       "      <td>17</td>\n",
       "      <td>0.764889</td>\n",
       "      <td>0.733333</td>\n",
       "      <td>0.031556</td>\n",
       "    </tr>\n",
       "    <tr>\n",
       "      <th>62</th>\n",
       "      <td>18</td>\n",
       "      <td>0.764889</td>\n",
       "      <td>0.733333</td>\n",
       "      <td>0.031556</td>\n",
       "    </tr>\n",
       "    <tr>\n",
       "      <th>63</th>\n",
       "      <td>19</td>\n",
       "      <td>0.764889</td>\n",
       "      <td>0.733333</td>\n",
       "      <td>0.031556</td>\n",
       "    </tr>\n",
       "    <tr>\n",
       "      <th>64</th>\n",
       "      <td>20</td>\n",
       "      <td>0.764889</td>\n",
       "      <td>0.733333</td>\n",
       "      <td>0.031556</td>\n",
       "    </tr>\n",
       "    <tr>\n",
       "      <th>65</th>\n",
       "      <td>21</td>\n",
       "      <td>0.764889</td>\n",
       "      <td>0.733333</td>\n",
       "      <td>0.031556</td>\n",
       "    </tr>\n",
       "    <tr>\n",
       "      <th>66</th>\n",
       "      <td>22</td>\n",
       "      <td>0.764889</td>\n",
       "      <td>0.733333</td>\n",
       "      <td>0.031556</td>\n",
       "    </tr>\n",
       "    <tr>\n",
       "      <th>67</th>\n",
       "      <td>23</td>\n",
       "      <td>0.764889</td>\n",
       "      <td>0.733333</td>\n",
       "      <td>0.031556</td>\n",
       "    </tr>\n",
       "    <tr>\n",
       "      <th>68</th>\n",
       "      <td>24</td>\n",
       "      <td>0.764889</td>\n",
       "      <td>0.733333</td>\n",
       "      <td>0.031556</td>\n",
       "    </tr>\n",
       "  </tbody>\n",
       "</table>\n",
       "</div>"
      ],
      "text/plain": [
       "    max_depth  train_accuracy  validate_accuracy  difference\n",
       "0           2        0.734222           0.734222    0.000000\n",
       "1           3        0.764889           0.733333    0.031556\n",
       "2           4        0.770000           0.752000    0.018000\n",
       "3           5        0.770000           0.752000    0.018000\n",
       "4           6        0.778000           0.739556    0.038444\n",
       "5           7        0.783333           0.740444    0.042889\n",
       "6           8        0.791333           0.734222    0.057111\n",
       "7           9        0.802889           0.729778    0.073111\n",
       "8          10        0.814222           0.735111    0.079111\n",
       "9          11        0.828889           0.726222    0.102667\n",
       "10         12        0.836000           0.721778    0.114222\n",
       "11         13        0.847333           0.714667    0.132667\n",
       "12         14        0.856889           0.712000    0.144889\n",
       "13         15        0.863778           0.712000    0.151778\n",
       "14         16        0.870000           0.700444    0.169556\n",
       "15         17        0.872889           0.700444    0.172444\n",
       "16         18        0.875333           0.703111    0.172222\n",
       "17         19        0.877111           0.706667    0.170444\n",
       "18         20        0.878222           0.704000    0.174222\n",
       "19         21        0.878667           0.704889    0.173778\n",
       "20         22        0.879111           0.706667    0.172444\n",
       "21         23        0.878889           0.707556    0.171333\n",
       "22         24        0.878889           0.708444    0.170444\n",
       "23          2        0.734222           0.734222    0.000000\n",
       "24          3        0.764889           0.733333    0.031556\n",
       "25          4        0.770000           0.752000    0.018000\n",
       "26          5        0.770000           0.752000    0.018000\n",
       "27          6        0.778000           0.739556    0.038444\n",
       "28          7        0.783333           0.740444    0.042889\n",
       "29          8        0.791333           0.734222    0.057111\n",
       "30          9        0.802889           0.729778    0.073111\n",
       "31         10        0.814222           0.735111    0.079111\n",
       "32         11        0.828889           0.726222    0.102667\n",
       "33         12        0.836000           0.721778    0.114222\n",
       "34         13        0.847333           0.714667    0.132667\n",
       "35         14        0.856889           0.712000    0.144889\n",
       "36         15        0.863778           0.712000    0.151778\n",
       "37         16        0.870000           0.700444    0.169556\n",
       "38         17        0.872889           0.700444    0.172444\n",
       "39         18        0.875333           0.703111    0.172222\n",
       "40         19        0.877111           0.706667    0.170444\n",
       "41         20        0.878222           0.704000    0.174222\n",
       "42         21        0.878667           0.704889    0.173778\n",
       "43         22        0.879111           0.706667    0.172444\n",
       "44         23        0.878889           0.707556    0.171333\n",
       "45         24        0.878889           0.708444    0.170444\n",
       "46          2        0.764889           0.733333    0.031556\n",
       "47          3        0.764889           0.733333    0.031556\n",
       "48          4        0.764889           0.733333    0.031556\n",
       "49          5        0.764889           0.733333    0.031556\n",
       "50          6        0.764889           0.733333    0.031556\n",
       "51          7        0.764889           0.733333    0.031556\n",
       "52          8        0.764889           0.733333    0.031556\n",
       "53          9        0.764889           0.733333    0.031556\n",
       "54         10        0.764889           0.733333    0.031556\n",
       "55         11        0.764889           0.733333    0.031556\n",
       "56         12        0.764889           0.733333    0.031556\n",
       "57         13        0.764889           0.733333    0.031556\n",
       "58         14        0.764889           0.733333    0.031556\n",
       "59         15        0.764889           0.733333    0.031556\n",
       "60         16        0.764889           0.733333    0.031556\n",
       "61         17        0.764889           0.733333    0.031556\n",
       "62         18        0.764889           0.733333    0.031556\n",
       "63         19        0.764889           0.733333    0.031556\n",
       "64         20        0.764889           0.733333    0.031556\n",
       "65         21        0.764889           0.733333    0.031556\n",
       "66         22        0.764889           0.733333    0.031556\n",
       "67         23        0.764889           0.733333    0.031556\n",
       "68         24        0.764889           0.733333    0.031556"
      ]
     },
     "execution_count": 39,
     "metadata": {},
     "output_type": "execute_result"
    }
   ],
   "source": [
    "# Comparing in sample data to out of sample data.\n",
    "\n",
    "from sklearn.metrics import confusion_matrix\n",
    "\n",
    "metrics1 = []\n",
    "\n",
    "for i in range(2, 25):\n",
    "    forest = RandomForestClassifier(max_depth=3, random_state=123)\n",
    "    forest = forest.fit(X_train, y_train)\n",
    "\n",
    "    in_sample_accuracy = forest.score(X_train, y_train)\n",
    "    \n",
    "    out_of_sample_accuracy = forest.score(X_validate, y_validate)\n",
    "\n",
    "    output = {\n",
    "        \"max_depth\": i,\n",
    "        \"train_accuracy\": in_sample_accuracy,\n",
    "        \"validate_accuracy\": out_of_sample_accuracy\n",
    "    }\n",
    "    \n",
    "    metrics.append(output)\n",
    "    df = pd.DataFrame(metrics)\n",
    "df[\"difference\"] = df.train_accuracy - df.validate_accuracy\n",
    "df"
   ]
  },
  {
   "cell_type": "markdown",
   "id": "c269eb73",
   "metadata": {},
   "source": [
    "## Decision Tree\n",
    "\n",
    "Baseline = 0.73"
   ]
  },
  {
   "cell_type": "code",
   "execution_count": 74,
   "id": "e25ad456",
   "metadata": {},
   "outputs": [],
   "source": [
    "# fit the model\n",
    "\n",
    "tree1 = DecisionTreeClassifier(max_depth=3, random_state=123)\n",
    "\n",
    "tree1 = tree1.fit(X_train, y_train)\n",
    "\n",
    "y_predictions = tree1.predict(X_train)"
   ]
  },
  {
   "cell_type": "code",
   "execution_count": 75,
   "id": "fbaf9218",
   "metadata": {},
   "outputs": [
    {
     "data": {
      "image/png": "[encoded data removed]",
      "text/plain": [
       "<Figure size 864x504 with 1 Axes>"
      ]
     },
     "metadata": {
      "needs_background": "light"
     },
     "output_type": "display_data"
    }
   ],
   "source": [
    "# plot the model\n",
    "\n",
    "plt.figure(figsize=(12, 7))\n",
    "plot_tree(tree1, feature_names=X_train.columns, class_names=['0','1'])\n",
    "plt.show()"
   ]
  },
  {
   "cell_type": "markdown",
   "id": "690d7053",
   "metadata": {},
   "source": [
    "Evaluate performance of Decision Tree"
   ]
  },
  {
   "cell_type": "code",
   "execution_count": 81,
   "id": "48ff0c86",
   "metadata": {},
   "outputs": [
    {
     "data": {
      "text/html": [
       "<div>\n",
       "<style scoped>\n",
       "    .dataframe tbody tr th:only-of-type {\n",
       "        vertical-align: middle;\n",
       "    }\n",
       "\n",
       "    .dataframe tbody tr th {\n",
       "        vertical-align: top;\n",
       "    }\n",
       "\n",
       "    .dataframe thead th {\n",
       "        text-align: right;\n",
       "    }\n",
       "</style>\n",
       "<table border=\"1\" class=\"dataframe\">\n",
       "  <thead>\n",
       "    <tr style=\"text-align: right;\">\n",
       "      <th></th>\n",
       "      <th>max_depth</th>\n",
       "      <th>train_accuracy</th>\n",
       "      <th>validate_accuracy</th>\n",
       "      <th>difference</th>\n",
       "    </tr>\n",
       "  </thead>\n",
       "  <tbody>\n",
       "    <tr>\n",
       "      <th>0</th>\n",
       "      <td>1</td>\n",
       "      <td>0.734222</td>\n",
       "      <td>0.734222</td>\n",
       "      <td>0.000000</td>\n",
       "    </tr>\n",
       "    <tr>\n",
       "      <th>1</th>\n",
       "      <td>2</td>\n",
       "      <td>0.734222</td>\n",
       "      <td>0.734222</td>\n",
       "      <td>0.000000</td>\n",
       "    </tr>\n",
       "    <tr>\n",
       "      <th>2</th>\n",
       "      <td>3</td>\n",
       "      <td>0.766444</td>\n",
       "      <td>0.745778</td>\n",
       "      <td>0.020667</td>\n",
       "    </tr>\n",
       "    <tr>\n",
       "      <th>3</th>\n",
       "      <td>4</td>\n",
       "      <td>0.771333</td>\n",
       "      <td>0.749333</td>\n",
       "      <td>0.022000</td>\n",
       "    </tr>\n",
       "    <tr>\n",
       "      <th>4</th>\n",
       "      <td>5</td>\n",
       "      <td>0.772889</td>\n",
       "      <td>0.748444</td>\n",
       "      <td>0.024444</td>\n",
       "    </tr>\n",
       "  </tbody>\n",
       "</table>\n",
       "</div>"
      ],
      "text/plain": [
       "   max_depth  train_accuracy  validate_accuracy  difference\n",
       "0          1        0.734222           0.734222    0.000000\n",
       "1          2        0.734222           0.734222    0.000000\n",
       "2          3        0.766444           0.745778    0.020667\n",
       "3          4        0.771333           0.749333    0.022000\n",
       "4          5        0.772889           0.748444    0.024444"
      ]
     },
     "execution_count": 81,
     "metadata": {},
     "output_type": "execute_result"
    }
   ],
   "source": [
    "from sklearn.tree import DecisionTreeClassifier, plot_tree, export_text\n",
    "\n",
    "for i in range(1, 25):\n",
    "    # Make the model\n",
    "    tree = DecisionTreeClassifier(max_depth=i, random_state=123)\n",
    "\n",
    "    # Fit the model (on train and only train)\n",
    "    tree = tree.fit(X_train, y_train)\n",
    "\n",
    "    # Use the model\n",
    "    # We'll evaluate the model's performance on train, first\n",
    "    in_sample_accuracy = tree.score(X_train, y_train)\n",
    "    \n",
    "    out_of_sample_accuracy = tree.score(X_validate, y_validate)\n",
    "\n",
    "    output = {\n",
    "        \"max_depth\": i,\n",
    "        \"train_accuracy\": in_sample_accuracy,\n",
    "        \"validate_accuracy\": out_of_sample_accuracy\n",
    "    }\n",
    "    \n",
    "    metrics.append(output)\n",
    "    \n",
    "df = pd.DataFrame(metrics)\n",
    "df[\"difference\"] = df.train_accuracy - df.validate_accuracy\n",
    "df.head()"
   ]
  },
  {
   "cell_type": "markdown",
   "id": "08b7da0e",
   "metadata": {},
   "source": [
    "## Logistic Regression\n",
    "\n",
    "Baseline = 0.73"
   ]
  },
  {
   "cell_type": "code",
   "execution_count": 44,
   "id": "929b0c33",
   "metadata": {},
   "outputs": [
    {
     "name": "stdout",
     "output_type": "stream",
     "text": [
      "Accuracy of Logistic Regression classifier on training set: 0.77\n"
     ]
    }
   ],
   "source": [
    "# fir regression model with features\n",
    "\n",
    "from sklearn.linear_model import LogisticRegression\n",
    "\n",
    "logit = LogisticRegression(random_state=123)\n",
    "\n",
    "features = ['contract_type_One year','contract_type_Two year', 'internet_service_type_Fiber optic', 'internet_service_type_None', 'monthly_charges']\n",
    "\n",
    "logit.fit(X_train[features], y_train)\n",
    "y_pred = logit.predict(X_train[features])\n",
    "\n",
    "print('Accuracy of Logistic Regression classifier on training set: {:.2f}'\n",
    "     .format(logit.score(X_train[features], y_train)))\n"
   ]
  },
  {
   "cell_type": "markdown",
   "id": "c3c27d8e",
   "metadata": {},
   "source": [
    "Evaluate preformance on validate of Logistic Regression"
   ]
  },
  {
   "cell_type": "code",
   "execution_count": 45,
   "id": "9f55c61f",
   "metadata": {},
   "outputs": [
    {
     "name": "stdout",
     "output_type": "stream",
     "text": [
      "Logit model using all features and all model defaults\n",
      "              precision    recall  f1-score   support\n",
      "\n",
      "           0       0.84      0.82      0.83       826\n",
      "           1       0.53      0.56      0.54       299\n",
      "\n",
      "    accuracy                           0.75      1125\n",
      "   macro avg       0.68      0.69      0.69      1125\n",
      "weighted avg       0.75      0.75      0.75      1125\n",
      "\n"
     ]
    }
   ],
   "source": [
    "# run test data\n",
    "y_pred = logit.predict(X_validate)\n",
    "\n",
    "print(\"Logit model using all features and all model defaults\")\n",
    "print(classification_report(y_validate, y_pred))"
   ]
  },
  {
   "cell_type": "code",
   "execution_count": 50,
   "id": "6fe6d929",
   "metadata": {},
   "outputs": [
    {
     "name": "stdout",
     "output_type": "stream",
     "text": [
      "Model 1: solver = lbfgs, c = 1\n",
      "Accuracy: 0.76\n",
      "[[859 174]\n",
      " [158 216]]\n",
      "              precision    recall  f1-score   support\n",
      "\n",
      "           0       0.84      0.83      0.84      1033\n",
      "           1       0.55      0.58      0.57       374\n",
      "\n",
      "    accuracy                           0.76      1407\n",
      "   macro avg       0.70      0.70      0.70      1407\n",
      "weighted avg       0.77      0.76      0.77      1407\n",
      "\n"
     ]
    }
   ],
   "source": [
    "# testing model\n",
    "y_pred = logit.predict(X_test)\n",
    "y_pred_proba = logit.predict_proba(X_test)\n",
    "\n",
    "print(\"Model 1: solver = lbfgs, c = 1\")\n",
    "\n",
    "print('Accuracy: {:.2f}'.format(logit.score(X_test, y_test)))\n",
    "\n",
    "print(confusion_matrix(y_test, y_pred))\n",
    "\n",
    "print(classification_report(y_test, y_pred))\n"
   ]
  },
  {
   "cell_type": "markdown",
   "id": "31173735",
   "metadata": {},
   "source": [
    "CSV "
   ]
  },
  {
   "cell_type": "code",
   "execution_count": 60,
   "id": "a5624e5f",
   "metadata": {},
   "outputs": [],
   "source": [
    "# customer id into df\n",
    "c_id = pd.DataFrame(test.customer_id)"
   ]
  },
  {
   "cell_type": "code",
   "execution_count": 63,
   "id": "f486ea0f",
   "metadata": {},
   "outputs": [
    {
     "data": {
      "text/html": [
       "<div>\n",
       "<style scoped>\n",
       "    .dataframe tbody tr th:only-of-type {\n",
       "        vertical-align: middle;\n",
       "    }\n",
       "\n",
       "    .dataframe tbody tr th {\n",
       "        vertical-align: top;\n",
       "    }\n",
       "\n",
       "    .dataframe thead th {\n",
       "        text-align: right;\n",
       "    }\n",
       "</style>\n",
       "<table border=\"1\" class=\"dataframe\">\n",
       "  <thead>\n",
       "    <tr style=\"text-align: right;\">\n",
       "      <th></th>\n",
       "      <th>customer_id</th>\n",
       "    </tr>\n",
       "  </thead>\n",
       "  <tbody>\n",
       "    <tr>\n",
       "      <th>0</th>\n",
       "      <td>4716-MRVEN</td>\n",
       "    </tr>\n",
       "    <tr>\n",
       "      <th>1</th>\n",
       "      <td>8966-KZXXA</td>\n",
       "    </tr>\n",
       "    <tr>\n",
       "      <th>2</th>\n",
       "      <td>8720-RQSBJ</td>\n",
       "    </tr>\n",
       "    <tr>\n",
       "      <th>3</th>\n",
       "      <td>7504-UWHNB</td>\n",
       "    </tr>\n",
       "    <tr>\n",
       "      <th>4</th>\n",
       "      <td>1730-VFMWO</td>\n",
       "    </tr>\n",
       "    <tr>\n",
       "      <th>...</th>\n",
       "      <td>...</td>\n",
       "    </tr>\n",
       "    <tr>\n",
       "      <th>1402</th>\n",
       "      <td>0877-SDMBN</td>\n",
       "    </tr>\n",
       "    <tr>\n",
       "      <th>1403</th>\n",
       "      <td>5555-RNPGT</td>\n",
       "    </tr>\n",
       "    <tr>\n",
       "      <th>1404</th>\n",
       "      <td>4628-CTTLA</td>\n",
       "    </tr>\n",
       "    <tr>\n",
       "      <th>1405</th>\n",
       "      <td>0516-QREYC</td>\n",
       "    </tr>\n",
       "    <tr>\n",
       "      <th>1406</th>\n",
       "      <td>5198-HQAEN</td>\n",
       "    </tr>\n",
       "  </tbody>\n",
       "</table>\n",
       "<p>1407 rows × 1 columns</p>\n",
       "</div>"
      ],
      "text/plain": [
       "     customer_id\n",
       "0     4716-MRVEN\n",
       "1     8966-KZXXA\n",
       "2     8720-RQSBJ\n",
       "3     7504-UWHNB\n",
       "4     1730-VFMWO\n",
       "...          ...\n",
       "1402  0877-SDMBN\n",
       "1403  5555-RNPGT\n",
       "1404  4628-CTTLA\n",
       "1405  0516-QREYC\n",
       "1406  5198-HQAEN\n",
       "\n",
       "[1407 rows x 1 columns]"
      ]
     },
     "execution_count": 63,
     "metadata": {},
     "output_type": "execute_result"
    }
   ],
   "source": [
    "# reset index\n",
    "c_id.reset_index(drop = True)"
   ]
  },
  {
   "cell_type": "code",
   "execution_count": 67,
   "id": "7df6fee0",
   "metadata": {},
   "outputs": [],
   "source": [
    "# predictions into a df\n",
    "pred = pd.DataFrame(logit.predict(X_test))"
   ]
  },
  {
   "cell_type": "code",
   "execution_count": 62,
   "id": "553e0dbc",
   "metadata": {},
   "outputs": [
    {
     "data": {
      "text/plain": [
       "0       0.044799\n",
       "1       0.013115\n",
       "2       0.335713\n",
       "3       0.617481\n",
       "4       0.315238\n",
       "          ...   \n",
       "1402    0.185759\n",
       "1403    0.155794\n",
       "1404    0.351663\n",
       "1405    0.164908\n",
       "1406    0.220390\n",
       "Name: 1, Length: 1407, dtype: float64"
      ]
     },
     "execution_count": 62,
     "metadata": {},
     "output_type": "execute_result"
    }
   ],
   "source": [
    "#probability into a df\n",
    "proba = pd.DataFrame(logit.predict_proba(X_test))[1]\n",
    "proba"
   ]
  },
  {
   "cell_type": "code",
   "execution_count": 64,
   "id": "907bf7ac",
   "metadata": {},
   "outputs": [],
   "source": [
    "# join customer id and probability \n",
    "c_id_proba = c_id.join(proba, how = 'right')"
   ]
  },
  {
   "cell_type": "code",
   "execution_count": 69,
   "id": "3a574533",
   "metadata": {},
   "outputs": [],
   "source": [
    "# join all three tables \n",
    "c_id_proba_pred = c_id_proba.join(pred, how = 'right')"
   ]
  },
  {
   "cell_type": "code",
   "execution_count": 70,
   "id": "73beb84f",
   "metadata": {},
   "outputs": [],
   "source": [
    "# make in csv\n",
    "c_id_proba_pred.to_csv('telco_pred_proba_churn')"
   ]
  },
  {
   "cell_type": "code",
   "execution_count": 71,
   "id": "bf3534df",
   "metadata": {},
   "outputs": [
    {
     "data": {
      "text/html": [
       "<div>\n",
       "<style scoped>\n",
       "    .dataframe tbody tr th:only-of-type {\n",
       "        vertical-align: middle;\n",
       "    }\n",
       "\n",
       "    .dataframe tbody tr th {\n",
       "        vertical-align: top;\n",
       "    }\n",
       "\n",
       "    .dataframe thead th {\n",
       "        text-align: right;\n",
       "    }\n",
       "</style>\n",
       "<table border=\"1\" class=\"dataframe\">\n",
       "  <thead>\n",
       "    <tr style=\"text-align: right;\">\n",
       "      <th></th>\n",
       "      <th>customer_id</th>\n",
       "      <th>1</th>\n",
       "      <th>0</th>\n",
       "    </tr>\n",
       "  </thead>\n",
       "  <tbody>\n",
       "    <tr>\n",
       "      <th>0</th>\n",
       "      <td>NaN</td>\n",
       "      <td>0.044799</td>\n",
       "      <td>0</td>\n",
       "    </tr>\n",
       "    <tr>\n",
       "      <th>1</th>\n",
       "      <td>NaN</td>\n",
       "      <td>0.013115</td>\n",
       "      <td>0</td>\n",
       "    </tr>\n",
       "    <tr>\n",
       "      <th>2</th>\n",
       "      <td>NaN</td>\n",
       "      <td>0.335713</td>\n",
       "      <td>0</td>\n",
       "    </tr>\n",
       "    <tr>\n",
       "      <th>3</th>\n",
       "      <td>NaN</td>\n",
       "      <td>0.617481</td>\n",
       "      <td>1</td>\n",
       "    </tr>\n",
       "    <tr>\n",
       "      <th>4</th>\n",
       "      <td>NaN</td>\n",
       "      <td>0.315238</td>\n",
       "      <td>0</td>\n",
       "    </tr>\n",
       "    <tr>\n",
       "      <th>...</th>\n",
       "      <td>...</td>\n",
       "      <td>...</td>\n",
       "      <td>...</td>\n",
       "    </tr>\n",
       "    <tr>\n",
       "      <th>1402</th>\n",
       "      <td>2074-GKOWZ</td>\n",
       "      <td>0.185759</td>\n",
       "      <td>0</td>\n",
       "    </tr>\n",
       "    <tr>\n",
       "      <th>1403</th>\n",
       "      <td>NaN</td>\n",
       "      <td>0.155794</td>\n",
       "      <td>0</td>\n",
       "    </tr>\n",
       "    <tr>\n",
       "      <th>1404</th>\n",
       "      <td>NaN</td>\n",
       "      <td>0.351663</td>\n",
       "      <td>0</td>\n",
       "    </tr>\n",
       "    <tr>\n",
       "      <th>1405</th>\n",
       "      <td>NaN</td>\n",
       "      <td>0.164908</td>\n",
       "      <td>0</td>\n",
       "    </tr>\n",
       "    <tr>\n",
       "      <th>1406</th>\n",
       "      <td>NaN</td>\n",
       "      <td>0.220390</td>\n",
       "      <td>0</td>\n",
       "    </tr>\n",
       "  </tbody>\n",
       "</table>\n",
       "<p>1407 rows × 3 columns</p>\n",
       "</div>"
      ],
      "text/plain": [
       "     customer_id         1  0\n",
       "0            NaN  0.044799  0\n",
       "1            NaN  0.013115  0\n",
       "2            NaN  0.335713  0\n",
       "3            NaN  0.617481  1\n",
       "4            NaN  0.315238  0\n",
       "...          ...       ... ..\n",
       "1402  2074-GKOWZ  0.185759  0\n",
       "1403         NaN  0.155794  0\n",
       "1404         NaN  0.351663  0\n",
       "1405         NaN  0.164908  0\n",
       "1406         NaN  0.220390  0\n",
       "\n",
       "[1407 rows x 3 columns]"
      ]
     },
     "execution_count": 71,
     "metadata": {},
     "output_type": "execute_result"
    }
   ],
   "source": [
    "# the csv made\n",
    "c_id_proba_pred"
   ]
  },
  {
   "cell_type": "markdown",
   "id": "37db20c2",
   "metadata": {},
   "source": [
    "I am picking the regression model to continue with because I wanted to focus more on recall. there needs to be three columns: customer id, predictions, probability. First I put each into their own data frame, resent the index and then joined them all together."
   ]
  },
  {
   "cell_type": "markdown",
   "id": "0db77591",
   "metadata": {},
   "source": [
    "## Summary"
   ]
  },
  {
   "cell_type": "markdown",
   "id": "14392817",
   "metadata": {},
   "source": [
    "After going through the data I found that all of my questions are drivers of churn (monthly charges, internet services, contract type). First i used vizualizations and ran different stats test (chi2 and T-test), and all three used showed a high P values. My baseline was .73 and all of the tests were able to beat that. I picked Logistic Regression model because i wanted to focus on the recall score which was .58 with a total accuracy of .76 on the test set. "
   ]
  },
  {
   "cell_type": "markdown",
   "id": "93cbacc9",
   "metadata": {},
   "source": [
    "## Recomendation"
   ]
  },
  {
   "cell_type": "markdown",
   "id": "ba8036d1",
   "metadata": {},
   "source": [
    "I propose to give discounts for Fiber to keep current customers, and give discounts to new customers who sign up with Fiber to help with monthly charges, specifically for Fiber services. Also, give discounts to customers who sign up for a year contract to help with month to month churn."
   ]
  },
  {
   "cell_type": "code",
   "execution_count": null,
   "id": "59c64adc",
   "metadata": {},
   "outputs": [],
   "source": []
  }
 ],
 "metadata": {
  "kernelspec": {
   "display_name": "Python 3 (ipykernel)",
   "language": "python",
   "name": "python3"
  },
  "language_info": {
   "codemirror_mode": {
    "name": "ipython",
    "version": 3
   },
   "file_extension": ".py",
   "mimetype": "text/x-python",
   "name": "python",
   "nbconvert_exporter": "python",
   "pygments_lexer": "ipython3",
   "version": "3.9.12"
  }
 },
 "nbformat": 4,
 "nbformat_minor": 5
}
